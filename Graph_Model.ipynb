{
  "nbformat": 4,
  "nbformat_minor": 0,
  "metadata": {
    "colab": {
      "provenance": [],
      "authorship_tag": "ABX9TyOS8+WZ1qb+ZLCeWaftCgAV",
      "include_colab_link": true
    },
    "kernelspec": {
      "name": "python3",
      "display_name": "Python 3"
    },
    "language_info": {
      "name": "python"
    }
  },
  "cells": [
    {
      "cell_type": "markdown",
      "metadata": {
        "id": "view-in-github",
        "colab_type": "text"
      },
      "source": [
        "<a href=\"https://colab.research.google.com/github/DManiscalco/MMA-Matchups/blob/main/Graph_Model.ipynb\" target=\"_parent\"><img src=\"https://colab.research.google.com/assets/colab-badge.svg\" alt=\"Open In Colab\"/></a>"
      ]
    },
    {
      "cell_type": "markdown",
      "source": [
        "# Can use a Graph Neural Network if we have data of stats of specific fights (nodes are fighters and edges are fights)"
      ],
      "metadata": {
        "id": "B_4ZF8kHVMbf"
      }
    },
    {
      "cell_type": "code",
      "source": [
        "%%capture\n",
        "!pip install torch_geometric"
      ],
      "metadata": {
        "id": "Uz6b97o-yT1N"
      },
      "execution_count": 1,
      "outputs": []
    },
    {
      "cell_type": "code",
      "source": [
        "import kagglehub\n",
        "import numpy as np\n",
        "import pandas as pd\n",
        "from sklearn.model_selection import train_test_split\n",
        "from sklearn.preprocessing import LabelEncoder, StandardScaler\n",
        "import torch\n",
        "from torch.utils.data import DataLoader, Dataset\n",
        "from transformers import BertTokenizer, BertForSequenceClassification, Trainer, TrainingArguments\n",
        "\n",
        "# Libraries for the graph model\n",
        "from torch_geometric.data import Data, DataLoader\n",
        "from torch_geometric.nn import GCNConv, global_mean_pool\n",
        "from torch.nn import functional as F\n",
        "import torch.nn as nn"
      ],
      "metadata": {
        "id": "pkzpTFII5neK"
      },
      "execution_count": 2,
      "outputs": []
    },
    {
      "cell_type": "code",
      "execution_count": 3,
      "metadata": {
        "colab": {
          "base_uri": "https://localhost:8080/"
        },
        "id": "ppotB5CsVJFP",
        "outputId": "fcf5cc95-cb29-4d91-c16a-71ed0684581a"
      },
      "outputs": [
        {
          "output_type": "stream",
          "name": "stdout",
          "text": [
            "Downloading from https://www.kaggle.com/api/v1/datasets/download/calmdownkarm/ufcdataset?dataset_version_number=6...\n"
          ]
        },
        {
          "output_type": "stream",
          "name": "stderr",
          "text": [
            "100%|██████████| 977k/977k [00:00<00:00, 91.7MB/s]"
          ]
        },
        {
          "output_type": "stream",
          "name": "stdout",
          "text": [
            "Extracting files...\n",
            "data.csv\n"
          ]
        },
        {
          "output_type": "stream",
          "name": "stderr",
          "text": [
            "\n"
          ]
        }
      ],
      "source": [
        "# Download the dataset from kaggle\n",
        "path = kagglehub.dataset_download('calmdownkarm/ufcdataset')\n",
        "\n",
        "# Use $ to keep python variable in the terminal command\n",
        "!ls $path  # make sure there are files in the path as we expect\n",
        "!cp -r $path/* /content/  # move to /content folder"
      ]
    },
    {
      "cell_type": "code",
      "source": [
        "# Read CSV file to a pandas df\n",
        "data_csv = pd.read_csv('/content/data.csv')"
      ],
      "metadata": {
        "id": "khEFhgkfWfOk"
      },
      "execution_count": 155,
      "outputs": []
    },
    {
      "cell_type": "code",
      "source": [
        "# Fight information for the edges\n",
        "fight_info_cols = ['Event_ID', 'Fight_ID', 'Last_round', 'Max_round', 'winby', 'winner', 'B_ID', 'R_ID', 'B_Age', 'R_Age']  # don't include 'Date' for now\n",
        "for col in data_csv.columns:\n",
        "  # Using the below to keep the order of the last round and max round columns\n",
        "  if 'round' in col.lower() and col not in ['Last_round', 'Max_round']:\n",
        "    fight_info_cols.append(col)\n",
        "\n",
        "fight_info_df = data_csv[fight_info_cols]\n",
        "fight_info_df.loc[:, 'winner'] = fight_info_df.apply(lambda x: x['B_ID'] if x['winner'] == 'blue' else (x['R_ID'] if x['winner'] == 'red' else x['winner']), axis=1)\n",
        "fight_info_df = fight_info_df[(fight_info_df['winner'] != 'draw') & (fight_info_df['winner'] != 'no contest')]  # get rid of rows with no contest or draw\n",
        "\n",
        "# Fighter information for the nodes\n",
        "fighter_info_cols = ['B_Height',\t'B_HomeTown',\t'B_ID', 'B_Location', 'B_Name', 'R_Height', 'R_HomeTown', 'R_ID', 'R_Location', 'R_Name']\n",
        "fighter_info_init = data_csv[fighter_info_cols]\n",
        "\n",
        "# Make df of fighter names and information for red and blue\n",
        "fighter_info_red = fighter_info_init[['R_Height', 'R_HomeTown', 'R_ID', 'R_Location', 'R_Name']]\n",
        "fighter_info_blue = fighter_info_init[['B_Height',\t'B_HomeTown',\t'B_ID',\t'B_Location',\t'B_Name']]\n",
        "\n",
        "# Rename the cols to be the same for both dfs\n",
        "fighter_col_names = ['Height', 'HomeTown', 'ID', 'Location', 'Name']\n",
        "fighter_info_red.columns = fighter_col_names\n",
        "fighter_info_blue.columns = fighter_col_names\n",
        "\n",
        "# Concat the cols and drop duplicates\n",
        "fighter_info_concat = pd.concat([fighter_info_blue, fighter_info_red])"
      ],
      "metadata": {
        "id": "-ZkmxaUN54M1"
      },
      "execution_count": 156,
      "outputs": []
    },
    {
      "cell_type": "code",
      "source": [
        "# For fighters, check if there are any duplicates between names and IDs\n",
        "dupe_df = fighter_info_concat.drop_duplicates(subset=['ID'])\n",
        "# dupe_df[dupe_df.duplicated(['Name'], keep=False)]  # uncomment this to show duplicates\n",
        "\n",
        "# Duplicate is Dong Hyun Kim with ID of 455 and 2709 - change one of them\n",
        "fighter_info_concat.loc[fighter_info_concat['ID'] == 2709, 'ID'] = 455"
      ],
      "metadata": {
        "id": "40yDj7VCAbKq"
      },
      "execution_count": 157,
      "outputs": []
    },
    {
      "cell_type": "code",
      "source": [
        "# Drop duplicates of fighter IDs\n",
        "fighter_info_df = fighter_info_concat.drop_duplicates(subset=['ID'])"
      ],
      "metadata": {
        "id": "-5-93Ib3CLPY"
      },
      "execution_count": 158,
      "outputs": []
    },
    {
      "cell_type": "code",
      "source": [
        "# Change anything with the ID of 2709 to be 455 since these are the same fighter\n",
        "fight_info_df.loc[fight_info_df['R_ID'] == 2709, 'R_ID'] = 455\n",
        "fight_info_df.loc[fight_info_df['B_ID'] == 2709, 'B_ID'] = 455"
      ],
      "metadata": {
        "id": "pAbUJc8XC29m"
      },
      "execution_count": 159,
      "outputs": []
    },
    {
      "cell_type": "markdown",
      "source": [
        "### Start setting up the model"
      ],
      "metadata": {
        "id": "ctO7PN4aGccf"
      }
    },
    {
      "cell_type": "code",
      "source": [
        "# Use label encoding because we have some text columns - fighter cols first\n",
        "fighter_info_df = fighter_info_df.copy()  # use to avoid warnings\n",
        "\n",
        "for col in fighter_info_df.select_dtypes(exclude=['number']).columns:\n",
        "  fighter_info_df[col] = LabelEncoder().fit_transform(fighter_info_df[col])\n",
        "  fighter_info_df[col] = fighter_info_df[col].astype(int)  # convert to integer\n",
        "\n",
        "# Label encoding for the fights\n",
        "fight_info_df = fight_info_df.copy()  # use to avoid warnings\n",
        "fight_info_df['winner'] = fight_info_df['winner'].astype(int)  # convert to integer so it doesn't get labeled\n",
        "\n",
        "for col in fight_info_df.select_dtypes(exclude=['number']).columns:\n",
        "  fight_info_df[col] = fight_info_df[col].astype(str)  # change to str - we can't have ints and str for the encoder\n",
        "  fight_info_df[col] = LabelEncoder().fit_transform(fight_info_df[col])\n",
        "  fight_info_df[col] = fight_info_df[col].astype(int)  # convert to integer"
      ],
      "metadata": {
        "id": "-lIStC2udLJv"
      },
      "execution_count": 160,
      "outputs": []
    },
    {
      "cell_type": "code",
      "source": [
        "# Connect each fighter ID to a node and then specify which node is the fight winner\n",
        "fighter_id_to_node_idx = {id: idx for idx, id in enumerate(fighter_info_df['ID'])}\n",
        "fight_info_df['winner_node'] = fight_info_df['winner'].map(fighter_id_to_node_idx)"
      ],
      "metadata": {
        "id": "3tdue27suLD6"
      },
      "execution_count": 168,
      "outputs": []
    },
    {
      "cell_type": "code",
      "source": [
        "# Node featurs into tensors - drop Fighter ID from node df because it isn't a feature\n",
        "node_features = torch.tensor(fighter_info_df.drop('ID', axis=1).values, dtype=torch.float)\n",
        "\n",
        "# Edge indices into tensors\n",
        "edge_index = torch.tensor([[fighter_id_to_node_idx[blue], fighter_id_to_node_idx[red]] for blue, red in zip(fight_info_df['B_ID'], fight_info_df['R_ID'])], dtype=torch.long).t().contiguous()\n",
        "\n",
        "# Edge features to tensors\n",
        "fight_edge_cols = fight_info_df.columns[np.r_[2:6, 8:len(fight_info_df.columns)]]  # take out event ID, fight ID, blue ID, and red ID cols (not features)\n",
        "edge_features = torch.tensor(fight_info_df[fight_edge_cols].values, dtype=torch.float)"
      ],
      "metadata": {
        "id": "Ab_vaxLfyyXg"
      },
      "execution_count": 169,
      "outputs": []
    },
    {
      "cell_type": "code",
      "source": [],
      "metadata": {
        "id": "AdHuiHXxkAsy"
      },
      "execution_count": null,
      "outputs": []
    },
    {
      "cell_type": "code",
      "source": [],
      "metadata": {
        "id": "QToPK106_Q69"
      },
      "execution_count": null,
      "outputs": []
    },
    {
      "cell_type": "code",
      "source": [],
      "metadata": {
        "id": "4hI-US7m_Q-d"
      },
      "execution_count": null,
      "outputs": []
    },
    {
      "cell_type": "code",
      "source": [],
      "metadata": {
        "id": "OmjZ5ix__RBb"
      },
      "execution_count": null,
      "outputs": []
    },
    {
      "cell_type": "code",
      "source": [],
      "metadata": {
        "id": "iTcG9KEwyyaS"
      },
      "execution_count": null,
      "outputs": []
    },
    {
      "cell_type": "code",
      "source": [],
      "metadata": {
        "id": "Mu4wvWdBmpty"
      },
      "execution_count": null,
      "outputs": []
    },
    {
      "cell_type": "code",
      "source": [],
      "metadata": {
        "id": "3GxXrLBwmpxe"
      },
      "execution_count": null,
      "outputs": []
    }
  ]
}