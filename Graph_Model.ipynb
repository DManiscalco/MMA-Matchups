{
  "nbformat": 4,
  "nbformat_minor": 0,
  "metadata": {
    "colab": {
      "provenance": [],
      "authorship_tag": "ABX9TyPC68r4ybqKPy6RxEo57jbb",
      "include_colab_link": true
    },
    "kernelspec": {
      "name": "python3",
      "display_name": "Python 3"
    },
    "language_info": {
      "name": "python"
    }
  },
  "cells": [
    {
      "cell_type": "markdown",
      "metadata": {
        "id": "view-in-github",
        "colab_type": "text"
      },
      "source": [
        "<a href=\"https://colab.research.google.com/github/DManiscalco/MMA-Matchups/blob/main/Graph_Model.ipynb\" target=\"_parent\"><img src=\"https://colab.research.google.com/assets/colab-badge.svg\" alt=\"Open In Colab\"/></a>"
      ]
    },
    {
      "cell_type": "markdown",
      "source": [
        "# Can use a Graph Neural Network if we have data of stats of specific fights (nodes are fighters and edges are fights)"
      ],
      "metadata": {
        "id": "B_4ZF8kHVMbf"
      }
    },
    {
      "cell_type": "code",
      "source": [
        "%%capture\n",
        "!pip install torch_geometric"
      ],
      "metadata": {
        "id": "Uz6b97o-yT1N"
      },
      "execution_count": 40,
      "outputs": []
    },
    {
      "cell_type": "code",
      "source": [
        "import kagglehub\n",
        "import numpy as np\n",
        "import pandas as pd\n",
        "from sklearn.model_selection import train_test_split\n",
        "from sklearn.preprocessing import LabelEncoder, StandardScaler\n",
        "import torch\n",
        "from torch.utils.data import DataLoader, Dataset\n",
        "from transformers import BertTokenizer, BertForSequenceClassification, Trainer, TrainingArguments\n",
        "\n",
        "# Libraries for the graph model\n",
        "from torch_geometric.data import Data, DataLoader\n",
        "from torch_geometric.nn import GCNConv, global_mean_pool\n",
        "from torch.nn import functional as F\n",
        "import torch.nn as nn"
      ],
      "metadata": {
        "id": "pkzpTFII5neK"
      },
      "execution_count": 41,
      "outputs": []
    },
    {
      "cell_type": "code",
      "execution_count": 2,
      "metadata": {
        "colab": {
          "base_uri": "https://localhost:8080/"
        },
        "id": "ppotB5CsVJFP",
        "outputId": "c441a4a2-8ef9-4f89-d8be-73dfeac49d47"
      },
      "outputs": [
        {
          "output_type": "stream",
          "name": "stdout",
          "text": [
            "Downloading from https://www.kaggle.com/api/v1/datasets/download/calmdownkarm/ufcdataset?dataset_version_number=6...\n"
          ]
        },
        {
          "output_type": "stream",
          "name": "stderr",
          "text": [
            "100%|██████████| 977k/977k [00:00<00:00, 71.2MB/s]"
          ]
        },
        {
          "output_type": "stream",
          "name": "stdout",
          "text": [
            "Extracting files...\n",
            "data.csv\n"
          ]
        },
        {
          "output_type": "stream",
          "name": "stderr",
          "text": [
            "\n"
          ]
        }
      ],
      "source": [
        "# Download the dataset from kaggle\n",
        "path = kagglehub.dataset_download('calmdownkarm/ufcdataset')\n",
        "\n",
        "# Use $ to keep python variable in the terminal command\n",
        "!ls $path  # make sure there are files in the path as we expect\n",
        "!cp -r $path/* /content/  # move to /content folder"
      ]
    },
    {
      "cell_type": "code",
      "source": [
        "# Read CSV file to a pandas df\n",
        "data_csv = pd.read_csv('/content/data.csv')"
      ],
      "metadata": {
        "id": "khEFhgkfWfOk"
      },
      "execution_count": 211,
      "outputs": []
    },
    {
      "cell_type": "code",
      "source": [
        "# Fight information for the edges\n",
        "fight_info_cols = ['Event_ID', 'Fight_ID', 'Last_round', 'Max_round', 'winby', 'winner', 'B_ID', 'R_ID', 'B_Age', 'R_Age']  # don't include 'Date' for now\n",
        "for col in data_csv.columns:\n",
        "  # Using the below to keep the order of the last round and max round columns\n",
        "  if 'round' in col.lower() and col not in ['Last_round', 'Max_round']:\n",
        "    fight_info_cols.append(col)\n",
        "\n",
        "fight_info_df = data_csv[fight_info_cols]\n",
        "fight_info_df.loc[:, 'winner'] = fight_info_df.apply(lambda x: x['B_ID'] if x['winner'] == 'blue' else (x['R_ID'] if x['winner'] == 'red' else x['winner']), axis=1)\n",
        "\n",
        "# Fighter information for the nodes\n",
        "fighter_info_cols = ['B_Height',\t'B_HomeTown',\t'B_ID', 'B_Location', 'B_Name', 'R_Height', 'R_HomeTown', 'R_ID', 'R_Location', 'R_Name']\n",
        "fighter_info_init = data_csv[fighter_info_cols]\n",
        "\n",
        "# Make df of fighter names and information for red and blue\n",
        "fighter_info_red = fighter_info_init[['R_Height', 'R_HomeTown', 'R_ID', 'R_Location', 'R_Name']]\n",
        "fighter_info_blue = fighter_info_init[['B_Height',\t'B_HomeTown',\t'B_ID',\t'B_Location',\t'B_Name']]\n",
        "\n",
        "# Rename the cols to be the same for both dfs\n",
        "fighter_col_names = ['Height', 'HomeTown', 'ID', 'Location', 'Name']\n",
        "fighter_info_red.columns = fighter_col_names\n",
        "fighter_info_blue.columns = fighter_col_names\n",
        "\n",
        "# Concat the cols and drop duplicates\n",
        "fighter_info_concat = pd.concat([fighter_info_blue, fighter_info_blue])"
      ],
      "metadata": {
        "id": "-ZkmxaUN54M1"
      },
      "execution_count": 212,
      "outputs": []
    },
    {
      "cell_type": "code",
      "source": [
        "# For fighters, check if there are any duplicates between names and IDs\n",
        "dupe_df = fighter_info_concat.drop_duplicates(subset=['ID'])\n",
        "# dupe_df[dupe_df.duplicated(['Name'], keep=False)]  # uncomment this to show duplicates\n",
        "\n",
        "# Duplicate is Dong Hyun Kim with ID of 455 and 2709 - change one of them\n",
        "fighter_info_concat.loc[fighter_info_concat['ID'] == 2709, 'ID'] = 455"
      ],
      "metadata": {
        "id": "40yDj7VCAbKq"
      },
      "execution_count": 213,
      "outputs": []
    },
    {
      "cell_type": "code",
      "source": [
        "# Drop duplicates of fighter IDs\n",
        "fighter_info_df = fighter_info_concat.drop_duplicates(subset=['ID'])"
      ],
      "metadata": {
        "id": "-5-93Ib3CLPY"
      },
      "execution_count": 214,
      "outputs": []
    },
    {
      "cell_type": "code",
      "source": [
        "# Change anything with the ID of 2709 to be 455 since these are the same fighter\n",
        "fight_info_df.loc[fight_info_df['R_ID'] == 2709, 'R_ID'] = 455\n",
        "fight_info_df.loc[fight_info_df['B_ID'] == 2709, 'B_ID'] = 455"
      ],
      "metadata": {
        "id": "pAbUJc8XC29m"
      },
      "execution_count": 215,
      "outputs": []
    },
    {
      "cell_type": "markdown",
      "source": [
        "### Start setting up the model"
      ],
      "metadata": {
        "id": "ctO7PN4aGccf"
      }
    },
    {
      "cell_type": "code",
      "source": [],
      "metadata": {
        "id": "DYj7FFm9dLHh"
      },
      "execution_count": null,
      "outputs": []
    },
    {
      "cell_type": "code",
      "source": [],
      "metadata": {
        "id": "-lIStC2udLJv"
      },
      "execution_count": null,
      "outputs": []
    },
    {
      "cell_type": "code",
      "source": [],
      "metadata": {
        "id": "Tum5zZh1dLMH"
      },
      "execution_count": null,
      "outputs": []
    },
    {
      "cell_type": "code",
      "source": [],
      "metadata": {
        "id": "keya_XiIKWdi"
      },
      "execution_count": null,
      "outputs": []
    },
    {
      "cell_type": "code",
      "source": [],
      "metadata": {
        "id": "3EVxCqPtKWkb"
      },
      "execution_count": null,
      "outputs": []
    },
    {
      "cell_type": "code",
      "source": [],
      "metadata": {
        "id": "Mu4wvWdBmpty"
      },
      "execution_count": null,
      "outputs": []
    },
    {
      "cell_type": "code",
      "source": [],
      "metadata": {
        "id": "3GxXrLBwmpxe"
      },
      "execution_count": null,
      "outputs": []
    }
  ]
}