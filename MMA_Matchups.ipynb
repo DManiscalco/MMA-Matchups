{
  "nbformat": 4,
  "nbformat_minor": 0,
  "metadata": {
    "colab": {
      "provenance": [],
      "authorship_tag": "ABX9TyOhbQtLIfoFOOIa6kzAqCfM",
      "include_colab_link": true
    },
    "kernelspec": {
      "name": "python3",
      "display_name": "Python 3"
    },
    "language_info": {
      "name": "python"
    }
  },
  "cells": [
    {
      "cell_type": "markdown",
      "metadata": {
        "id": "view-in-github",
        "colab_type": "text"
      },
      "source": [
        "<a href=\"https://colab.research.google.com/github/DManiscalco/MMA-Matchups/blob/main/MMA_Matchups.ipynb\" target=\"_parent\"><img src=\"https://colab.research.google.com/assets/colab-badge.svg\" alt=\"Open In Colab\"/></a>"
      ]
    },
    {
      "cell_type": "code",
      "execution_count": 1,
      "metadata": {
        "id": "JTp2DG__pMY8"
      },
      "outputs": [],
      "source": [
        "import kagglehub\n",
        "import pandas as pd\n",
        "from pyspark.sql import functions as F\n",
        "from pyspark.sql import SparkSession\n",
        "from pyspark.sql.window import Window"
      ]
    },
    {
      "cell_type": "markdown",
      "source": [
        "### Download the dataset and bring in the dataframe"
      ],
      "metadata": {
        "id": "mJPkr1x7xbiw"
      }
    },
    {
      "cell_type": "code",
      "source": [
        "# Download the dataset from kaggle\n",
        "path = kagglehub.dataset_download('danmcinerney/mma-differentials-and-elo')\n",
        "\n",
        "# Use $ to keep python variable in the terminal command\n",
        "!ls $path  # make sure there are files in the path as we expect\n",
        "!cp -r $path/* /content/  # move to /content folder"
      ],
      "metadata": {
        "colab": {
          "base_uri": "https://localhost:8080/"
        },
        "id": "sb6SjApnpo5D",
        "outputId": "ea2f303f-0538-4cd4-8d13-c526a50a87e9"
      },
      "execution_count": 2,
      "outputs": [
        {
          "output_type": "stream",
          "name": "stdout",
          "text": [
            "masterdataframe.csv  masterMLpublic.csv\n"
          ]
        }
      ]
    },
    {
      "cell_type": "code",
      "source": [
        "# Create a SparkSession\n",
        "spark = SparkSession.builder.getOrCreate()"
      ],
      "metadata": {
        "id": "lVgPF4IhwEoJ"
      },
      "execution_count": 3,
      "outputs": []
    },
    {
      "cell_type": "code",
      "source": [
        "# Read the CSV file\n",
        "mma_df = spark.read.csv('/content/masterdataframe.csv', header=True, inferSchema=True)"
      ],
      "metadata": {
        "id": "tCBlAn_RevQT"
      },
      "execution_count": 4,
      "outputs": []
    },
    {
      "cell_type": "code",
      "source": [
        "# Show the first few rows of the DataFrame\n",
        "# mma_df.show(10)"
      ],
      "metadata": {
        "id": "rP6TbYiKlJFK"
      },
      "execution_count": 5,
      "outputs": []
    },
    {
      "cell_type": "markdown",
      "source": [
        "### Start preprocessing the data"
      ],
      "metadata": {
        "id": "b4qcIEBkxhO-"
      }
    },
    {
      "cell_type": "code",
      "source": [
        "## Drop any column that is a url:\n",
        "# Get the list of column names where the first entry starts with 'http:' and drop them\n",
        "first_row = mma_df.first()  # Get first row of data from dataframe\n",
        "columns_with_http = [col for col in mma_df.columns if str(first_row[col]).startswith(\"http:\")]\n",
        "mma_df_reduced = mma_df.drop(*columns_with_http)  # Drop these columns\n",
        "\n",
        "# Dropping 'time' col - it is the time that we run df and unrelated to the data\n",
        "mma_df_reduced = mma_df_reduced.drop('time')\n",
        "\n",
        "# 'age' col refers to age in 2021 so we calculate true age at time of fight\n",
        "mma_df_reduced = mma_df_reduced.withColumn(\n",
        "    'age',\n",
        "    F.floor(F.months_between('date', 'dob') / 12)  # returns NULL if a col is NULL\n",
        ")"
      ],
      "metadata": {
        "id": "PnYybPdpySLw"
      },
      "execution_count": 6,
      "outputs": []
    },
    {
      "cell_type": "code",
      "source": [
        "# mma_df_reduced.show(5)"
      ],
      "metadata": {
        "id": "M5bBk3CTlF2s"
      },
      "execution_count": 7,
      "outputs": []
    },
    {
      "cell_type": "code",
      "source": [
        "## Split the dataframe into a training and testing set based on specific fighters\n",
        "## and the dates of their fights\n",
        "# Proportions for training and testing sets\n",
        "train_ratio = 0.7  # 70% for training\n",
        "test_ratio = 0.3   # 30% for testing\n",
        "\n",
        "# Calculate the total row count per fighter then cutoff counts based on proportions\n",
        "row_counts = mma_df_reduced.groupBy('fighter').count().withColumnRenamed('count', 'total_rows')\n",
        "cutoffs = row_counts.withColumn('train_cutoff', (F.col('total_rows') * train_ratio).cast('int'))\n",
        "cutoffs = cutoffs.withColumn('test_cutoff', F.col('total_rows') - F.col('train_cutoff'))\n",
        "\n",
        "# Join the cutoffs back to the original dataframe for reference\n",
        "mma_df_reduced = mma_df_reduced.join(cutoffs.select('fighter', 'train_cutoff', 'test_cutoff'), on='fighter', how='left')\n",
        "\n",
        "# Order rows by date within each person's group and assign row numbers\n",
        "window = Window.partitionBy('fighter').orderBy('date')\n",
        "mma_df_reduced = mma_df_reduced.withColumn('row_num', F.row_number().over(window))\n",
        "\n",
        "# Create train and test dfs based on row numbers and cutoffs\n",
        "train_df = mma_df_reduced.filter(F.col('row_num') <= F.col('train_cutoff')).drop('row_num', 'train_cutoff', 'test_cutoff')\n",
        "test_df = mma_df_reduced.filter(F.col('row_num') > F.col('train_cutoff')).drop('row_num', 'train_cutoff', 'test_cutoff')"
      ],
      "metadata": {
        "id": "Ekw9jrzWc1Az"
      },
      "execution_count": 8,
      "outputs": []
    },
    {
      "cell_type": "code",
      "source": [],
      "metadata": {
        "id": "Og5Y7SIEgtn-"
      },
      "execution_count": 8,
      "outputs": []
    },
    {
      "cell_type": "code",
      "source": [],
      "metadata": {
        "id": "LQ3mNWkBgtqU"
      },
      "execution_count": 8,
      "outputs": []
    },
    {
      "cell_type": "code",
      "source": [],
      "metadata": {
        "id": "iZpyExSnc1MR"
      },
      "execution_count": 8,
      "outputs": []
    },
    {
      "cell_type": "code",
      "source": [],
      "metadata": {
        "id": "mlcY8CY0c1O6"
      },
      "execution_count": 8,
      "outputs": []
    },
    {
      "cell_type": "code",
      "source": [],
      "metadata": {
        "id": "-pexr1JJ0L7-"
      },
      "execution_count": 8,
      "outputs": []
    },
    {
      "cell_type": "code",
      "source": [],
      "metadata": {
        "id": "iS2rsd58zYuV"
      },
      "execution_count": 8,
      "outputs": []
    },
    {
      "cell_type": "code",
      "source": [],
      "metadata": {
        "id": "-LdfVg2rzYw1"
      },
      "execution_count": 8,
      "outputs": []
    },
    {
      "cell_type": "code",
      "source": [],
      "metadata": {
        "id": "YoEo8jNZzR_n"
      },
      "execution_count": 8,
      "outputs": []
    },
    {
      "cell_type": "code",
      "source": [],
      "metadata": {
        "id": "VBPUXsCDxIRN"
      },
      "execution_count": 8,
      "outputs": []
    },
    {
      "cell_type": "code",
      "source": [],
      "metadata": {
        "id": "CZC3EY7RzHlq"
      },
      "execution_count": 8,
      "outputs": []
    },
    {
      "cell_type": "code",
      "source": [],
      "metadata": {
        "id": "xKNdlJ1FzH9H"
      },
      "execution_count": 8,
      "outputs": []
    }
  ]
}